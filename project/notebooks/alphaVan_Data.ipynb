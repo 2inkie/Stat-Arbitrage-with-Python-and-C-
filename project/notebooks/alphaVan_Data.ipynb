{
 "cells": [
  {
   "cell_type": "code",
   "execution_count": 38,
   "metadata": {},
   "outputs": [],
   "source": [
    "import json\n",
    "import requests\n",
    "import pandas as pd\n",
    "import gc\n",
    "\n",
    "# *.json file with API key for alphavantage\n",
    "with open('../config/config.json') as f:\n",
    "    config = json.load(f)\n"
   ]
  },
  {
   "cell_type": "code",
   "execution_count": 39,
   "metadata": {},
   "outputs": [],
   "source": [
    "# Function to derive the stock data for a specific stock and transform it into pandas dataframe\n",
    "def get_stock_data(symbol : str, api_key : str):\n",
    "    endpoint = \"https://www.alphavantage.co/query\"\n",
    "\n",
    "    params = {\n",
    "        'function': 'TIME_SERIES_DAILY',\n",
    "        'symbol': symbol,\n",
    "        'outputsize': 'full',\n",
    "        'datatype': 'json',\n",
    "        'apikey': api_key\n",
    "    }\n",
    "\n",
    "    response = requests.get(endpoint, params)\n",
    "\n",
    "    if response.status_code == 200:\n",
    "        data = response.json()\n",
    "        if 'Time Series (Daily)' in data:\n",
    "            time_series = data['Time Series (Daily)']\n",
    "            \n",
    "            pandasDf = pd.DataFrame.from_dict(time_series, orient='index')\n",
    "            pandasDf.index = pd.to_datetime(pandasDf.index)\n",
    "            pandasDf = pandasDf[['4. close']]\n",
    "            pandasDf.rename(columns={'4. close': 'Close'}, inplace=True)\n",
    "            return pandasDf\n",
    "    else:\n",
    "        return None\n"
   ]
  },
  {
   "cell_type": "code",
   "execution_count": 40,
   "metadata": {},
   "outputs": [],
   "source": [
    "# Download and save as csv the TSLA stock data and NIO stock data\n",
    "dataTSLA =  get_stock_data('TSLA', config['ALPHA_VANTAGE_API_KEY'])\n",
    "dataNIO = get_stock_data('NIO', config['ALPHA_VANTAGE_API_KEY'])\n",
    "\n",
    "dataTSLA.to_csv('../data/TSLA.csv')\n",
    "dataNIO.to_csv('../data/NIO.csv')"
   ]
  },
  {
   "cell_type": "code",
   "execution_count": 41,
   "metadata": {},
   "outputs": [
    {
     "data": {
      "text/html": [
       "<div>\n",
       "<style scoped>\n",
       "    .dataframe tbody tr th:only-of-type {\n",
       "        vertical-align: middle;\n",
       "    }\n",
       "\n",
       "    .dataframe tbody tr th {\n",
       "        vertical-align: top;\n",
       "    }\n",
       "\n",
       "    .dataframe thead th {\n",
       "        text-align: right;\n",
       "    }\n",
       "</style>\n",
       "<table border=\"1\" class=\"dataframe\">\n",
       "  <thead>\n",
       "    <tr style=\"text-align: right;\">\n",
       "      <th></th>\n",
       "      <th>Close</th>\n",
       "    </tr>\n",
       "  </thead>\n",
       "  <tbody>\n",
       "    <tr>\n",
       "      <th>2025-01-06</th>\n",
       "      <td>411.0500</td>\n",
       "    </tr>\n",
       "    <tr>\n",
       "      <th>2025-01-03</th>\n",
       "      <td>410.4400</td>\n",
       "    </tr>\n",
       "    <tr>\n",
       "      <th>2025-01-02</th>\n",
       "      <td>379.2800</td>\n",
       "    </tr>\n",
       "    <tr>\n",
       "      <th>2024-12-31</th>\n",
       "      <td>403.8400</td>\n",
       "    </tr>\n",
       "    <tr>\n",
       "      <th>2024-12-30</th>\n",
       "      <td>417.4100</td>\n",
       "    </tr>\n",
       "  </tbody>\n",
       "</table>\n",
       "</div>"
      ],
      "text/plain": [
       "               Close\n",
       "2025-01-06  411.0500\n",
       "2025-01-03  410.4400\n",
       "2025-01-02  379.2800\n",
       "2024-12-31  403.8400\n",
       "2024-12-30  417.4100"
      ]
     },
     "metadata": {},
     "output_type": "display_data"
    },
    {
     "data": {
      "text/html": [
       "<div>\n",
       "<style scoped>\n",
       "    .dataframe tbody tr th:only-of-type {\n",
       "        vertical-align: middle;\n",
       "    }\n",
       "\n",
       "    .dataframe tbody tr th {\n",
       "        vertical-align: top;\n",
       "    }\n",
       "\n",
       "    .dataframe thead th {\n",
       "        text-align: right;\n",
       "    }\n",
       "</style>\n",
       "<table border=\"1\" class=\"dataframe\">\n",
       "  <thead>\n",
       "    <tr style=\"text-align: right;\">\n",
       "      <th></th>\n",
       "      <th>Close</th>\n",
       "    </tr>\n",
       "  </thead>\n",
       "  <tbody>\n",
       "    <tr>\n",
       "      <th>2025-01-06</th>\n",
       "      <td>4.7100</td>\n",
       "    </tr>\n",
       "    <tr>\n",
       "      <th>2025-01-03</th>\n",
       "      <td>4.6300</td>\n",
       "    </tr>\n",
       "    <tr>\n",
       "      <th>2025-01-02</th>\n",
       "      <td>4.5500</td>\n",
       "    </tr>\n",
       "    <tr>\n",
       "      <th>2024-12-31</th>\n",
       "      <td>4.3600</td>\n",
       "    </tr>\n",
       "    <tr>\n",
       "      <th>2024-12-30</th>\n",
       "      <td>4.3800</td>\n",
       "    </tr>\n",
       "  </tbody>\n",
       "</table>\n",
       "</div>"
      ],
      "text/plain": [
       "             Close\n",
       "2025-01-06  4.7100\n",
       "2025-01-03  4.6300\n",
       "2025-01-02  4.5500\n",
       "2024-12-31  4.3600\n",
       "2024-12-30  4.3800"
      ]
     },
     "metadata": {},
     "output_type": "display_data"
    }
   ],
   "source": [
    "dataTSLA = dataTSLA.loc[dataNIO.index]\n",
    "display(dataTSLA.head())\n",
    "display(dataNIO.head())"
   ]
  },
  {
   "cell_type": "code",
   "execution_count": 42,
   "metadata": {},
   "outputs": [
    {
     "data": {
      "text/html": [
       "<div>\n",
       "<style scoped>\n",
       "    .dataframe tbody tr th:only-of-type {\n",
       "        vertical-align: middle;\n",
       "    }\n",
       "\n",
       "    .dataframe tbody tr th {\n",
       "        vertical-align: top;\n",
       "    }\n",
       "\n",
       "    .dataframe thead th {\n",
       "        text-align: right;\n",
       "    }\n",
       "</style>\n",
       "<table border=\"1\" class=\"dataframe\">\n",
       "  <thead>\n",
       "    <tr style=\"text-align: right;\">\n",
       "      <th></th>\n",
       "      <th>CloseTSLA</th>\n",
       "      <th>CloseNIO</th>\n",
       "    </tr>\n",
       "  </thead>\n",
       "  <tbody>\n",
       "    <tr>\n",
       "      <th>2025-01-06</th>\n",
       "      <td>411.0500</td>\n",
       "      <td>4.7100</td>\n",
       "    </tr>\n",
       "    <tr>\n",
       "      <th>2025-01-03</th>\n",
       "      <td>410.4400</td>\n",
       "      <td>4.6300</td>\n",
       "    </tr>\n",
       "    <tr>\n",
       "      <th>2025-01-02</th>\n",
       "      <td>379.2800</td>\n",
       "      <td>4.5500</td>\n",
       "    </tr>\n",
       "    <tr>\n",
       "      <th>2024-12-31</th>\n",
       "      <td>403.8400</td>\n",
       "      <td>4.3600</td>\n",
       "    </tr>\n",
       "    <tr>\n",
       "      <th>2024-12-30</th>\n",
       "      <td>417.4100</td>\n",
       "      <td>4.3800</td>\n",
       "    </tr>\n",
       "  </tbody>\n",
       "</table>\n",
       "</div>"
      ],
      "text/plain": [
       "           CloseTSLA CloseNIO\n",
       "2025-01-06  411.0500   4.7100\n",
       "2025-01-03  410.4400   4.6300\n",
       "2025-01-02  379.2800   4.5500\n",
       "2024-12-31  403.8400   4.3600\n",
       "2024-12-30  417.4100   4.3800"
      ]
     },
     "metadata": {},
     "output_type": "display_data"
    }
   ],
   "source": [
    "# Combine the datasets for TSLA and NIO\n",
    "dataTSLA.rename(columns={'Close': 'CloseTSLA'}, inplace=True)\n",
    "dataTSLA['CloseNIO'] = dataNIO['Close']\n",
    "\n",
    "finalData = dataTSLA\n",
    "del dataTSLA, dataNIO\n",
    "gc.collect()\n",
    "\n",
    "display(finalData.head())"
   ]
  },
  {
   "cell_type": "code",
   "execution_count": 43,
   "metadata": {},
   "outputs": [],
   "source": [
    "# Set the close values tobe numeric and not strings\n",
    "finalData['CloseTSLA'] = pd.to_numeric(finalData['CloseTSLA'], errors='coerce')\n",
    "finalData['CloseNIO'] = pd.to_numeric(finalData['CloseNIO'], errors='coerce')"
   ]
  },
  {
   "cell_type": "code",
   "execution_count": 44,
   "metadata": {},
   "outputs": [
    {
     "data": {
      "text/html": [
       "<div>\n",
       "<style scoped>\n",
       "    .dataframe tbody tr th:only-of-type {\n",
       "        vertical-align: middle;\n",
       "    }\n",
       "\n",
       "    .dataframe tbody tr th {\n",
       "        vertical-align: top;\n",
       "    }\n",
       "\n",
       "    .dataframe thead th {\n",
       "        text-align: right;\n",
       "    }\n",
       "</style>\n",
       "<table border=\"1\" class=\"dataframe\">\n",
       "  <thead>\n",
       "    <tr style=\"text-align: right;\">\n",
       "      <th></th>\n",
       "      <th>CloseTSLA</th>\n",
       "      <th>CloseNIO</th>\n",
       "      <th>spread</th>\n",
       "      <th>zscore</th>\n",
       "    </tr>\n",
       "  </thead>\n",
       "  <tbody>\n",
       "    <tr>\n",
       "      <th>2025-01-06</th>\n",
       "      <td>411.05</td>\n",
       "      <td>4.71</td>\n",
       "      <td>406.34</td>\n",
       "      <td>-0.175904</td>\n",
       "    </tr>\n",
       "    <tr>\n",
       "      <th>2025-01-03</th>\n",
       "      <td>410.44</td>\n",
       "      <td>4.63</td>\n",
       "      <td>405.81</td>\n",
       "      <td>-0.177521</td>\n",
       "    </tr>\n",
       "    <tr>\n",
       "      <th>2025-01-02</th>\n",
       "      <td>379.28</td>\n",
       "      <td>4.55</td>\n",
       "      <td>374.73</td>\n",
       "      <td>-0.272347</td>\n",
       "    </tr>\n",
       "    <tr>\n",
       "      <th>2024-12-31</th>\n",
       "      <td>403.84</td>\n",
       "      <td>4.36</td>\n",
       "      <td>399.48</td>\n",
       "      <td>-0.196834</td>\n",
       "    </tr>\n",
       "    <tr>\n",
       "      <th>2024-12-30</th>\n",
       "      <td>417.41</td>\n",
       "      <td>4.38</td>\n",
       "      <td>413.03</td>\n",
       "      <td>-0.155493</td>\n",
       "    </tr>\n",
       "  </tbody>\n",
       "</table>\n",
       "</div>"
      ],
      "text/plain": [
       "            CloseTSLA  CloseNIO  spread    zscore\n",
       "2025-01-06     411.05      4.71  406.34 -0.175904\n",
       "2025-01-03     410.44      4.63  405.81 -0.177521\n",
       "2025-01-02     379.28      4.55  374.73 -0.272347\n",
       "2024-12-31     403.84      4.36  399.48 -0.196834\n",
       "2024-12-30     417.41      4.38  413.03 -0.155493"
      ]
     },
     "metadata": {},
     "output_type": "display_data"
    }
   ],
   "source": [
    "# Calculate spread and z score\n",
    "finalData['spread'] = finalData['CloseTSLA'] - finalData['CloseNIO']\n",
    "finalData['zscore'] = (finalData['spread'] - finalData['spread'].mean()) / finalData['spread'].std()\n",
    "\n",
    "finalData.to_csv('../data/data_Spread_Z.csv')\n",
    "\n",
    "display(finalData.head())"
   ]
  },
  {
   "cell_type": "code",
   "execution_count": 45,
   "metadata": {},
   "outputs": [],
   "source": [
    "# Function to generate basic signals based on z score\n",
    "def generate_signals(data : pd.DataFrame, z_threshold = 1.5):\n",
    "    data['signal'] = 0\n",
    "    data.loc[data['zscore'] > z_threshold, 'signal'] = -1  # Short spread\n",
    "    data.loc[data['zscore'] < -z_threshold, 'signal'] = 1  # Long spread\n",
    "    data.loc[data['zscore'].abs() < 0.5, 'signal'] = 0\n",
    "\n",
    "    return data"
   ]
  },
  {
   "cell_type": "code",
   "execution_count": 46,
   "metadata": {},
   "outputs": [],
   "source": [
    "# Function to simulate trades\n",
    "def simulate_trades(data, initial_cash=100000):\n",
    "    cash = initial_cash\n",
    "    position = 0\n",
    "    for idx, row in data.iterrows():\n",
    "        if row['signal'] == 1:  # Long\n",
    "            position += 1\n",
    "            cash -= row['spread']\n",
    "        elif row['signal'] == -1:  # Short\n",
    "            position -= 1\n",
    "            cash += row['spread']\n",
    "        elif row['signal'] == 0:  # Close\n",
    "            cash += position * row['spread']\n",
    "            position = 0\n",
    "    return cash"
   ]
  },
  {
   "cell_type": "code",
   "execution_count": 47,
   "metadata": {},
   "outputs": [
    {
     "data": {
      "text/html": [
       "<div>\n",
       "<style scoped>\n",
       "    .dataframe tbody tr th:only-of-type {\n",
       "        vertical-align: middle;\n",
       "    }\n",
       "\n",
       "    .dataframe tbody tr th {\n",
       "        vertical-align: top;\n",
       "    }\n",
       "\n",
       "    .dataframe thead th {\n",
       "        text-align: right;\n",
       "    }\n",
       "</style>\n",
       "<table border=\"1\" class=\"dataframe\">\n",
       "  <thead>\n",
       "    <tr style=\"text-align: right;\">\n",
       "      <th></th>\n",
       "      <th>zscore</th>\n",
       "      <th>signal</th>\n",
       "    </tr>\n",
       "  </thead>\n",
       "  <tbody>\n",
       "    <tr>\n",
       "      <th>2025-01-06</th>\n",
       "      <td>-0.175904</td>\n",
       "      <td>0</td>\n",
       "    </tr>\n",
       "    <tr>\n",
       "      <th>2025-01-03</th>\n",
       "      <td>-0.177521</td>\n",
       "      <td>0</td>\n",
       "    </tr>\n",
       "    <tr>\n",
       "      <th>2025-01-02</th>\n",
       "      <td>-0.272347</td>\n",
       "      <td>0</td>\n",
       "    </tr>\n",
       "    <tr>\n",
       "      <th>2024-12-31</th>\n",
       "      <td>-0.196834</td>\n",
       "      <td>0</td>\n",
       "    </tr>\n",
       "    <tr>\n",
       "      <th>2024-12-30</th>\n",
       "      <td>-0.155493</td>\n",
       "      <td>0</td>\n",
       "    </tr>\n",
       "  </tbody>\n",
       "</table>\n",
       "</div>"
      ],
      "text/plain": [
       "              zscore  signal\n",
       "2025-01-06 -0.175904       0\n",
       "2025-01-03 -0.177521       0\n",
       "2025-01-02 -0.272347       0\n",
       "2024-12-31 -0.196834       0\n",
       "2024-12-30 -0.155493       0"
      ]
     },
     "metadata": {},
     "output_type": "display_data"
    }
   ],
   "source": [
    "data = generate_signals(finalData)\n",
    "\n",
    "display(data[['zscore', 'signal']].head())"
   ]
  },
  {
   "cell_type": "code",
   "execution_count": 48,
   "metadata": {},
   "outputs": [
    {
     "name": "stdout",
     "output_type": "stream",
     "text": [
      "139049.45000000004\n"
     ]
    }
   ],
   "source": [
    "final_cash = simulate_trades(data)\n",
    "\n",
    "print(final_cash)"
   ]
  }
 ],
 "metadata": {
  "kernelspec": {
   "display_name": "Python 3",
   "language": "python",
   "name": "python3"
  },
  "language_info": {
   "codemirror_mode": {
    "name": "ipython",
    "version": 3
   },
   "file_extension": ".py",
   "mimetype": "text/x-python",
   "name": "python",
   "nbconvert_exporter": "python",
   "pygments_lexer": "ipython3",
   "version": "3.11.4"
  }
 },
 "nbformat": 4,
 "nbformat_minor": 2
}
